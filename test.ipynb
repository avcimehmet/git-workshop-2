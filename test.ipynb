#Hello
aaa = sorted([89, 12, 45, 67, 78, 89, 70, 90, 67, 78])
bbb = []
for i in range(5):
  bbb.append(aaa[-1])
  aaa.pop(-1)
    
print("smallest five: ", aaa)
print("largest five: ", bbb)
